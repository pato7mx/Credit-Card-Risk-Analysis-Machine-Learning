{
 "cells": [
  {
   "cell_type": "code",
   "execution_count": 26,
   "metadata": {},
   "outputs": [],
   "source": [
    "# Connection String to connect this notebook with Database stored in AWS RDS using SQLAlchemy\n",
    "\n",
    "from sqlalchemy import create_engine\n",
    "\n",
    "# AWS Server password in config.py file\n",
    "from config import db_password\n",
    "\n",
    "# Direction to AWS RDS Server\n",
    "url_AWS = \"dbproject.cprghtxfxmsc.us-east-1.rds.amazonaws.com\"\n",
    "\n",
    "# Database name in Server\n",
    "db_name = \"postgres\"\n",
    "\n",
    "# Connection string\n",
    "db_string = f\"postgresql://postgres:{db_password}@{url_AWS}:5432/{db_name}\"\n",
    "\n",
    "engine = create_engine(db_string)\n",
    "\n",
    "# Example:\n",
    "# The following command creates a table named \"table_from_df\" from a pandas DataFrame called \"data_df\" in AWS Database\n",
    "#data_df.to_sql(name='table_from_df', con=engine)"
   ]
  }
 ],
 "metadata": {
  "kernelspec": {
   "display_name": "Python 3",
   "language": "python",
   "name": "python3"
  },
  "language_info": {
   "codemirror_mode": {
    "name": "ipython",
    "version": 3
   },
   "file_extension": ".py",
   "mimetype": "text/x-python",
   "name": "python",
   "nbconvert_exporter": "python",
   "pygments_lexer": "ipython3",
   "version": "3.8.5"
  }
 },
 "nbformat": 4,
 "nbformat_minor": 4
}
